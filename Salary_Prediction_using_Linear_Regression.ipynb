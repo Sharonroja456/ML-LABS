{
  "nbformat": 4,
  "nbformat_minor": 0,
  "metadata": {
    "colab": {
      "provenance": [],
      "include_colab_link": true
    },
    "kernelspec": {
      "name": "python3",
      "display_name": "Python 3"
    },
    "language_info": {
      "name": "python"
    }
  },
  "cells": [
    {
      "cell_type": "markdown",
      "metadata": {
        "id": "view-in-github",
        "colab_type": "text"
      },
      "source": [
        "<a href=\"https://colab.research.google.com/github/Sharonroja456/ML-LABS/blob/main/Salary_Prediction_using_Linear_Regression.ipynb\" target=\"_parent\"><img src=\"https://colab.research.google.com/assets/colab-badge.svg\" alt=\"Open In Colab\"/></a>"
      ]
    },
    {
      "cell_type": "markdown",
      "metadata": {
        "id": "UV3jlC7N_GS3"
      },
      "source": [
        "**Importing Libraries**"
      ]
    },
    {
      "cell_type": "code",
      "metadata": {
        "id": "rdgYDamx-eZY"
      },
      "source": [
        "import pandas as pd\n",
        "import matplotlib.pyplot as plt\n",
        "import numpy as np"
      ],
      "execution_count": null,
      "outputs": []
    },
    {
      "cell_type": "markdown",
      "metadata": {
        "id": "z9iKDsTH_iEp"
      },
      "source": [
        "**Importing  Salary dataset**"
      ]
    },
    {
      "cell_type": "code",
      "metadata": {
        "colab": {
          "base_uri": "https://localhost:8080/",
          "height": 206
        },
        "id": "eJGqPW5S_fMD",
        "outputId": "46d5da88-2b89-4834-d64f-a1e8d0da5dbd"
      },
      "source": [
        "data = pd.read_csv(\"Salary_Data.csv\")\n",
        "data.head()"
      ],
      "execution_count": null,
      "outputs": [
        {
          "output_type": "execute_result",
          "data": {
            "text/plain": [
              "   YearsExperience   Salary\n",
              "0              1.1  39343.0\n",
              "1              1.3  46205.0\n",
              "2              1.5  37731.0\n",
              "3              2.0  43525.0\n",
              "4              2.2  39891.0"
            ],
            "text/html": [
              "\n",
              "  <div id=\"df-9a14896e-b42a-44f7-a8e1-d77657eb8625\" class=\"colab-df-container\">\n",
              "    <div>\n",
              "<style scoped>\n",
              "    .dataframe tbody tr th:only-of-type {\n",
              "        vertical-align: middle;\n",
              "    }\n",
              "\n",
              "    .dataframe tbody tr th {\n",
              "        vertical-align: top;\n",
              "    }\n",
              "\n",
              "    .dataframe thead th {\n",
              "        text-align: right;\n",
              "    }\n",
              "</style>\n",
              "<table border=\"1\" class=\"dataframe\">\n",
              "  <thead>\n",
              "    <tr style=\"text-align: right;\">\n",
              "      <th></th>\n",
              "      <th>YearsExperience</th>\n",
              "      <th>Salary</th>\n",
              "    </tr>\n",
              "  </thead>\n",
              "  <tbody>\n",
              "    <tr>\n",
              "      <th>0</th>\n",
              "      <td>1.1</td>\n",
              "      <td>39343.0</td>\n",
              "    </tr>\n",
              "    <tr>\n",
              "      <th>1</th>\n",
              "      <td>1.3</td>\n",
              "      <td>46205.0</td>\n",
              "    </tr>\n",
              "    <tr>\n",
              "      <th>2</th>\n",
              "      <td>1.5</td>\n",
              "      <td>37731.0</td>\n",
              "    </tr>\n",
              "    <tr>\n",
              "      <th>3</th>\n",
              "      <td>2.0</td>\n",
              "      <td>43525.0</td>\n",
              "    </tr>\n",
              "    <tr>\n",
              "      <th>4</th>\n",
              "      <td>2.2</td>\n",
              "      <td>39891.0</td>\n",
              "    </tr>\n",
              "  </tbody>\n",
              "</table>\n",
              "</div>\n",
              "    <div class=\"colab-df-buttons\">\n",
              "\n",
              "  <div class=\"colab-df-container\">\n",
              "    <button class=\"colab-df-convert\" onclick=\"convertToInteractive('df-9a14896e-b42a-44f7-a8e1-d77657eb8625')\"\n",
              "            title=\"Convert this dataframe to an interactive table.\"\n",
              "            style=\"display:none;\">\n",
              "\n",
              "  <svg xmlns=\"http://www.w3.org/2000/svg\" height=\"24px\" viewBox=\"0 -960 960 960\">\n",
              "    <path d=\"M120-120v-720h720v720H120Zm60-500h600v-160H180v160Zm220 220h160v-160H400v160Zm0 220h160v-160H400v160ZM180-400h160v-160H180v160Zm440 0h160v-160H620v160ZM180-180h160v-160H180v160Zm440 0h160v-160H620v160Z\"/>\n",
              "  </svg>\n",
              "    </button>\n",
              "\n",
              "  <style>\n",
              "    .colab-df-container {\n",
              "      display:flex;\n",
              "      gap: 12px;\n",
              "    }\n",
              "\n",
              "    .colab-df-convert {\n",
              "      background-color: #E8F0FE;\n",
              "      border: none;\n",
              "      border-radius: 50%;\n",
              "      cursor: pointer;\n",
              "      display: none;\n",
              "      fill: #1967D2;\n",
              "      height: 32px;\n",
              "      padding: 0 0 0 0;\n",
              "      width: 32px;\n",
              "    }\n",
              "\n",
              "    .colab-df-convert:hover {\n",
              "      background-color: #E2EBFA;\n",
              "      box-shadow: 0px 1px 2px rgba(60, 64, 67, 0.3), 0px 1px 3px 1px rgba(60, 64, 67, 0.15);\n",
              "      fill: #174EA6;\n",
              "    }\n",
              "\n",
              "    .colab-df-buttons div {\n",
              "      margin-bottom: 4px;\n",
              "    }\n",
              "\n",
              "    [theme=dark] .colab-df-convert {\n",
              "      background-color: #3B4455;\n",
              "      fill: #D2E3FC;\n",
              "    }\n",
              "\n",
              "    [theme=dark] .colab-df-convert:hover {\n",
              "      background-color: #434B5C;\n",
              "      box-shadow: 0px 1px 3px 1px rgba(0, 0, 0, 0.15);\n",
              "      filter: drop-shadow(0px 1px 2px rgba(0, 0, 0, 0.3));\n",
              "      fill: #FFFFFF;\n",
              "    }\n",
              "  </style>\n",
              "\n",
              "    <script>\n",
              "      const buttonEl =\n",
              "        document.querySelector('#df-9a14896e-b42a-44f7-a8e1-d77657eb8625 button.colab-df-convert');\n",
              "      buttonEl.style.display =\n",
              "        google.colab.kernel.accessAllowed ? 'block' : 'none';\n",
              "\n",
              "      async function convertToInteractive(key) {\n",
              "        const element = document.querySelector('#df-9a14896e-b42a-44f7-a8e1-d77657eb8625');\n",
              "        const dataTable =\n",
              "          await google.colab.kernel.invokeFunction('convertToInteractive',\n",
              "                                                    [key], {});\n",
              "        if (!dataTable) return;\n",
              "\n",
              "        const docLinkHtml = 'Like what you see? Visit the ' +\n",
              "          '<a target=\"_blank\" href=https://colab.research.google.com/notebooks/data_table.ipynb>data table notebook</a>'\n",
              "          + ' to learn more about interactive tables.';\n",
              "        element.innerHTML = '';\n",
              "        dataTable['output_type'] = 'display_data';\n",
              "        await google.colab.output.renderOutput(dataTable, element);\n",
              "        const docLink = document.createElement('div');\n",
              "        docLink.innerHTML = docLinkHtml;\n",
              "        element.appendChild(docLink);\n",
              "      }\n",
              "    </script>\n",
              "  </div>\n",
              "\n",
              "\n",
              "<div id=\"df-5d89ba06-a839-46d0-972d-cd49eee1d320\">\n",
              "  <button class=\"colab-df-quickchart\" onclick=\"quickchart('df-5d89ba06-a839-46d0-972d-cd49eee1d320')\"\n",
              "            title=\"Suggest charts\"\n",
              "            style=\"display:none;\">\n",
              "\n",
              "<svg xmlns=\"http://www.w3.org/2000/svg\" height=\"24px\"viewBox=\"0 0 24 24\"\n",
              "     width=\"24px\">\n",
              "    <g>\n",
              "        <path d=\"M19 3H5c-1.1 0-2 .9-2 2v14c0 1.1.9 2 2 2h14c1.1 0 2-.9 2-2V5c0-1.1-.9-2-2-2zM9 17H7v-7h2v7zm4 0h-2V7h2v10zm4 0h-2v-4h2v4z\"/>\n",
              "    </g>\n",
              "</svg>\n",
              "  </button>\n",
              "\n",
              "<style>\n",
              "  .colab-df-quickchart {\n",
              "      --bg-color: #E8F0FE;\n",
              "      --fill-color: #1967D2;\n",
              "      --hover-bg-color: #E2EBFA;\n",
              "      --hover-fill-color: #174EA6;\n",
              "      --disabled-fill-color: #AAA;\n",
              "      --disabled-bg-color: #DDD;\n",
              "  }\n",
              "\n",
              "  [theme=dark] .colab-df-quickchart {\n",
              "      --bg-color: #3B4455;\n",
              "      --fill-color: #D2E3FC;\n",
              "      --hover-bg-color: #434B5C;\n",
              "      --hover-fill-color: #FFFFFF;\n",
              "      --disabled-bg-color: #3B4455;\n",
              "      --disabled-fill-color: #666;\n",
              "  }\n",
              "\n",
              "  .colab-df-quickchart {\n",
              "    background-color: var(--bg-color);\n",
              "    border: none;\n",
              "    border-radius: 50%;\n",
              "    cursor: pointer;\n",
              "    display: none;\n",
              "    fill: var(--fill-color);\n",
              "    height: 32px;\n",
              "    padding: 0;\n",
              "    width: 32px;\n",
              "  }\n",
              "\n",
              "  .colab-df-quickchart:hover {\n",
              "    background-color: var(--hover-bg-color);\n",
              "    box-shadow: 0 1px 2px rgba(60, 64, 67, 0.3), 0 1px 3px 1px rgba(60, 64, 67, 0.15);\n",
              "    fill: var(--button-hover-fill-color);\n",
              "  }\n",
              "\n",
              "  .colab-df-quickchart-complete:disabled,\n",
              "  .colab-df-quickchart-complete:disabled:hover {\n",
              "    background-color: var(--disabled-bg-color);\n",
              "    fill: var(--disabled-fill-color);\n",
              "    box-shadow: none;\n",
              "  }\n",
              "\n",
              "  .colab-df-spinner {\n",
              "    border: 2px solid var(--fill-color);\n",
              "    border-color: transparent;\n",
              "    border-bottom-color: var(--fill-color);\n",
              "    animation:\n",
              "      spin 1s steps(1) infinite;\n",
              "  }\n",
              "\n",
              "  @keyframes spin {\n",
              "    0% {\n",
              "      border-color: transparent;\n",
              "      border-bottom-color: var(--fill-color);\n",
              "      border-left-color: var(--fill-color);\n",
              "    }\n",
              "    20% {\n",
              "      border-color: transparent;\n",
              "      border-left-color: var(--fill-color);\n",
              "      border-top-color: var(--fill-color);\n",
              "    }\n",
              "    30% {\n",
              "      border-color: transparent;\n",
              "      border-left-color: var(--fill-color);\n",
              "      border-top-color: var(--fill-color);\n",
              "      border-right-color: var(--fill-color);\n",
              "    }\n",
              "    40% {\n",
              "      border-color: transparent;\n",
              "      border-right-color: var(--fill-color);\n",
              "      border-top-color: var(--fill-color);\n",
              "    }\n",
              "    60% {\n",
              "      border-color: transparent;\n",
              "      border-right-color: var(--fill-color);\n",
              "    }\n",
              "    80% {\n",
              "      border-color: transparent;\n",
              "      border-right-color: var(--fill-color);\n",
              "      border-bottom-color: var(--fill-color);\n",
              "    }\n",
              "    90% {\n",
              "      border-color: transparent;\n",
              "      border-bottom-color: var(--fill-color);\n",
              "    }\n",
              "  }\n",
              "</style>\n",
              "\n",
              "  <script>\n",
              "    async function quickchart(key) {\n",
              "      const quickchartButtonEl =\n",
              "        document.querySelector('#' + key + ' button');\n",
              "      quickchartButtonEl.disabled = true;  // To prevent multiple clicks.\n",
              "      quickchartButtonEl.classList.add('colab-df-spinner');\n",
              "      try {\n",
              "        const charts = await google.colab.kernel.invokeFunction(\n",
              "            'suggestCharts', [key], {});\n",
              "      } catch (error) {\n",
              "        console.error('Error during call to suggestCharts:', error);\n",
              "      }\n",
              "      quickchartButtonEl.classList.remove('colab-df-spinner');\n",
              "      quickchartButtonEl.classList.add('colab-df-quickchart-complete');\n",
              "    }\n",
              "    (() => {\n",
              "      let quickchartButtonEl =\n",
              "        document.querySelector('#df-5d89ba06-a839-46d0-972d-cd49eee1d320 button');\n",
              "      quickchartButtonEl.style.display =\n",
              "        google.colab.kernel.accessAllowed ? 'block' : 'none';\n",
              "    })();\n",
              "  </script>\n",
              "</div>\n",
              "\n",
              "    </div>\n",
              "  </div>\n"
            ],
            "application/vnd.google.colaboratory.intrinsic+json": {
              "type": "dataframe",
              "variable_name": "data",
              "summary": "{\n  \"name\": \"data\",\n  \"rows\": 30,\n  \"fields\": [\n    {\n      \"column\": \"YearsExperience\",\n      \"properties\": {\n        \"dtype\": \"number\",\n        \"std\": 2.8378881576627184,\n        \"min\": 1.1,\n        \"max\": 10.5,\n        \"num_unique_values\": 28,\n        \"samples\": [\n          3.9,\n          9.6,\n          3.7\n        ],\n        \"semantic_type\": \"\",\n        \"description\": \"\"\n      }\n    },\n    {\n      \"column\": \"Salary\",\n      \"properties\": {\n        \"dtype\": \"number\",\n        \"std\": 27414.4297845823,\n        \"min\": 37731.0,\n        \"max\": 122391.0,\n        \"num_unique_values\": 30,\n        \"samples\": [\n          112635.0,\n          67938.0,\n          113812.0\n        ],\n        \"semantic_type\": \"\",\n        \"description\": \"\"\n      }\n    }\n  ]\n}"
            }
          },
          "metadata": {},
          "execution_count": 26
        }
      ]
    },
    {
      "cell_type": "code",
      "metadata": {
        "colab": {
          "base_uri": "https://localhost:8080/"
        },
        "id": "c_CqCPlQ_ueL",
        "outputId": "87cd0fc5-ee5a-4617-c0c0-647ac4dde3a5"
      },
      "source": [
        "\n",
        "data.info()"
      ],
      "execution_count": null,
      "outputs": [
        {
          "output_type": "stream",
          "name": "stdout",
          "text": [
            "<class 'pandas.core.frame.DataFrame'>\n",
            "RangeIndex: 30 entries, 0 to 29\n",
            "Data columns (total 2 columns):\n",
            " #   Column           Non-Null Count  Dtype  \n",
            "---  ------           --------------  -----  \n",
            " 0   YearsExperience  30 non-null     float64\n",
            " 1   Salary           30 non-null     float64\n",
            "dtypes: float64(2)\n",
            "memory usage: 612.0 bytes\n"
          ]
        }
      ]
    },
    {
      "cell_type": "code",
      "metadata": {
        "colab": {
          "base_uri": "https://localhost:8080/"
        },
        "id": "qvdzzhup__Hf",
        "outputId": "c90f8a87-74ba-49e3-fb7c-4611bc5f9ba5"
      },
      "source": [
        "x = data['YearsExperience'].values\n",
        "x\n"
      ],
      "execution_count": null,
      "outputs": [
        {
          "output_type": "execute_result",
          "data": {
            "text/plain": [
              "array([ 1.1,  1.3,  1.5,  2. ,  2.2,  2.9,  3. ,  3.2,  3.2,  3.7,  3.9,\n",
              "        4. ,  4. ,  4.1,  4.5,  4.9,  5.1,  5.3,  5.9,  6. ,  6.8,  7.1,\n",
              "        7.9,  8.2,  8.7,  9. ,  9.5,  9.6, 10.3, 10.5])"
            ]
          },
          "metadata": {},
          "execution_count": 28
        }
      ]
    },
    {
      "cell_type": "code",
      "metadata": {
        "colab": {
          "base_uri": "https://localhost:8080/"
        },
        "id": "mG_jflrYAZGz",
        "outputId": "c7d541bc-229a-4e6b-8293-d68bf86aec8a"
      },
      "source": [
        "y = data['Salary'].values\n",
        "y"
      ],
      "execution_count": null,
      "outputs": [
        {
          "output_type": "execute_result",
          "data": {
            "text/plain": [
              "array([ 39343.,  46205.,  37731.,  43525.,  39891.,  56642.,  60150.,\n",
              "        54445.,  64445.,  57189.,  63218.,  55794.,  56957.,  57081.,\n",
              "        61111.,  67938.,  66029.,  83088.,  81363.,  93940.,  91738.,\n",
              "        98273., 101302., 113812., 109431., 105582., 116969., 112635.,\n",
              "       122391., 121872.])"
            ]
          },
          "metadata": {},
          "execution_count": 29
        }
      ]
    },
    {
      "cell_type": "code",
      "metadata": {
        "colab": {
          "base_uri": "https://localhost:8080/"
        },
        "id": "hTZUEnpFAiNk",
        "outputId": "b949625c-e1a8-4e89-e611-2edc1696ca32"
      },
      "source": [
        "x.shape"
      ],
      "execution_count": null,
      "outputs": [
        {
          "output_type": "execute_result",
          "data": {
            "text/plain": [
              "(30,)"
            ]
          },
          "metadata": {},
          "execution_count": 30
        }
      ]
    },
    {
      "cell_type": "code",
      "metadata": {
        "colab": {
          "base_uri": "https://localhost:8080/"
        },
        "id": "STO3bMp9Cfl1",
        "outputId": "7e41b279-f2ef-4918-ec49-9edca24627bf"
      },
      "source": [
        "x = x.reshape(len(x),1)\n",
        "x.shape"
      ],
      "execution_count": null,
      "outputs": [
        {
          "output_type": "execute_result",
          "data": {
            "text/plain": [
              "(30, 1)"
            ]
          },
          "metadata": {},
          "execution_count": 31
        }
      ]
    },
    {
      "cell_type": "markdown",
      "metadata": {
        "id": "iJ5ne0i6HgLB"
      },
      "source": [
        "**Dividing the data into training and testing**"
      ]
    },
    {
      "cell_type": "code",
      "metadata": {
        "id": "0GfUW4pbCiqj"
      },
      "source": [
        "from sklearn.model_selection import train_test_split\n",
        "xtrain,xtest,ytrain,ytest = train_test_split(x,y,train_size=0.80,random_state=200)"
      ],
      "execution_count": null,
      "outputs": []
    },
    {
      "cell_type": "code",
      "metadata": {
        "colab": {
          "base_uri": "https://localhost:8080/"
        },
        "id": "URPojzaSHnd5",
        "outputId": "d7b740df-a7a4-480b-a733-5b8e63d00928"
      },
      "source": [
        "xtrain"
      ],
      "execution_count": null,
      "outputs": [
        {
          "output_type": "execute_result",
          "data": {
            "text/plain": [
              "array([[ 4.1],\n",
              "       [ 6. ],\n",
              "       [ 7.1],\n",
              "       [ 3.2],\n",
              "       [ 2.9],\n",
              "       [ 9.6],\n",
              "       [ 5.3],\n",
              "       [10.3],\n",
              "       [ 6.8],\n",
              "       [ 2. ],\n",
              "       [ 3.2],\n",
              "       [ 1.3],\n",
              "       [ 9. ],\n",
              "       [ 3. ],\n",
              "       [ 4. ],\n",
              "       [ 4.5],\n",
              "       [ 4.9],\n",
              "       [ 4. ],\n",
              "       [ 8.2],\n",
              "       [ 3.9],\n",
              "       [ 2.2],\n",
              "       [ 5.1],\n",
              "       [ 3.7],\n",
              "       [ 9.5]])"
            ]
          },
          "metadata": {},
          "execution_count": 33
        }
      ]
    },
    {
      "cell_type": "code",
      "metadata": {
        "colab": {
          "base_uri": "https://localhost:8080/"
        },
        "id": "h2tPPAWEH9Oe",
        "outputId": "63c4389d-4b01-4d98-b9ac-9bdc22fe028f"
      },
      "source": [
        "ytrain"
      ],
      "execution_count": null,
      "outputs": [
        {
          "output_type": "execute_result",
          "data": {
            "text/plain": [
              "array([ 57081.,  93940.,  98273.,  64445.,  56642., 112635.,  83088.,\n",
              "       122391.,  91738.,  43525.,  54445.,  46205., 105582.,  60150.,\n",
              "        55794.,  61111.,  67938.,  56957., 113812.,  63218.,  39891.,\n",
              "        66029.,  57189., 116969.])"
            ]
          },
          "metadata": {},
          "execution_count": 34
        }
      ]
    },
    {
      "cell_type": "markdown",
      "metadata": {
        "id": "i2t73hFpggMW"
      },
      "source": [
        "\n",
        "\n",
        "\n",
        "\n",
        "\n",
        "\n",
        "**Relationship between independent variable and dependent variable**"
      ]
    },
    {
      "cell_type": "code",
      "metadata": {
        "colab": {
          "base_uri": "https://localhost:8080/",
          "height": 447
        },
        "id": "o6LdWAgigdeB",
        "outputId": "9daa77b6-fa82-4343-d541-d4623a9b9369"
      },
      "source": [
        "plt.scatter(x,y,color = \"blue\")"
      ],
      "execution_count": null,
      "outputs": [
        {
          "output_type": "execute_result",
          "data": {
            "text/plain": [
              "<matplotlib.collections.PathCollection at 0x7e24f4f69450>"
            ]
          },
          "metadata": {},
          "execution_count": 35
        },
        {
          "output_type": "display_data",
          "data": {
            "text/plain": [
              "<Figure size 640x480 with 1 Axes>"
            ],
            "image/png": "[encoded data removed]"
          },
          "metadata": {}
        }
      ]
    },
    {
      "cell_type": "code",
      "metadata": {
        "id": "QTB1DUwyb8mJ"
      },
      "source": [
        "### Build the model\n",
        "from sklearn.linear_model import LinearRegression\n",
        "model = LinearRegression()"
      ],
      "execution_count": null,
      "outputs": []
    },
    {
      "cell_type": "code",
      "metadata": {
        "colab": {
          "base_uri": "https://localhost:8080/",
          "height": 80
        },
        "id": "TZEhS_oiczE3",
        "outputId": "001575a4-c840-4e2a-adcd-2de6a092f1a8"
      },
      "source": [
        "### Train the model\n",
        "model.fit(xtrain,ytrain)"
      ],
      "execution_count": null,
      "outputs": [
        {
          "output_type": "execute_result",
          "data": {
            "text/plain": [
              "LinearRegression()"
            ],
            "text/html": [
              "<style>#sk-container-id-2 {\n",
              "  /* Definition of color scheme common for light and dark mode */\n",
              "  --sklearn-color-text: #000;\n",
              "  --sklearn-color-text-muted: #666;\n",
              "  --sklearn-color-line: gray;\n",
              "  /* Definition of color scheme for unfitted estimators */\n",
              "  --sklearn-color-unfitted-level-0: #fff5e6;\n",
              "  --sklearn-color-unfitted-level-1: #f6e4d2;\n",
              "  --sklearn-color-unfitted-level-2: #ffe0b3;\n",
              "  --sklearn-color-unfitted-level-3: chocolate;\n",
              "  /* Definition of color scheme for fitted estimators */\n",
              "  --sklearn-color-fitted-level-0: #f0f8ff;\n",
              "  --sklearn-color-fitted-level-1: #d4ebff;\n",
              "  --sklearn-color-fitted-level-2: #b3dbfd;\n",
              "  --sklearn-color-fitted-level-3: cornflowerblue;\n",
              "\n",
              "  /* Specific color for light theme */\n",
              "  --sklearn-color-text-on-default-background: var(--sg-text-color, var(--theme-code-foreground, var(--jp-content-font-color1, black)));\n",
              "  --sklearn-color-background: var(--sg-background-color, var(--theme-background, var(--jp-layout-color0, white)));\n",
              "  --sklearn-color-border-box: var(--sg-text-color, var(--theme-code-foreground, var(--jp-content-font-color1, black)));\n",
              "  --sklearn-color-icon: #696969;\n",
              "\n",
              "  @media (prefers-color-scheme: dark) {\n",
              "    /* Redefinition of color scheme for dark theme */\n",
              "    --sklearn-color-text-on-default-background: var(--sg-text-color, var(--theme-code-foreground, var(--jp-content-font-color1, white)));\n",
              "    --sklearn-color-background: var(--sg-background-color, var(--theme-background, var(--jp-layout-color0, #111)));\n",
              "    --sklearn-color-border-box: var(--sg-text-color, var(--theme-code-foreground, var(--jp-content-font-color1, white)));\n",
              "    --sklearn-color-icon: #878787;\n",
              "  }\n",
              "}\n",
              "\n",
              "#sk-container-id-2 {\n",
              "  color: var(--sklearn-color-text);\n",
              "}\n",
              "\n",
              "#sk-container-id-2 pre {\n",
              "  padding: 0;\n",
              "}\n",
              "\n",
              "#sk-container-id-2 input.sk-hidden--visually {\n",
              "  border: 0;\n",
              "  clip: rect(1px 1px 1px 1px);\n",
              "  clip: rect(1px, 1px, 1px, 1px);\n",
              "  height: 1px;\n",
              "  margin: -1px;\n",
              "  overflow: hidden;\n",
              "  padding: 0;\n",
              "  position: absolute;\n",
              "  width: 1px;\n",
              "}\n",
              "\n",
              "#sk-container-id-2 div.sk-dashed-wrapped {\n",
              "  border: 1px dashed var(--sklearn-color-line);\n",
              "  margin: 0 0.4em 0.5em 0.4em;\n",
              "  box-sizing: border-box;\n",
              "  padding-bottom: 0.4em;\n",
              "  background-color: var(--sklearn-color-background);\n",
              "}\n",
              "\n",
              "#sk-container-id-2 div.sk-container {\n",
              "  /* jupyter's `normalize.less` sets `[hidden] { display: none; }`\n",
              "     but bootstrap.min.css set `[hidden] { display: none !important; }`\n",
              "     so we also need the `!important` here to be able to override the\n",
              "     default hidden behavior on the sphinx rendered scikit-learn.org.\n",
              "     See: https://github.com/scikit-learn/scikit-learn/issues/21755 */\n",
              "  display: inline-block !important;\n",
              "  position: relative;\n",
              "}\n",
              "\n",
              "#sk-container-id-2 div.sk-text-repr-fallback {\n",
              "  display: none;\n",
              "}\n",
              "\n",
              "div.sk-parallel-item,\n",
              "div.sk-serial,\n",
              "div.sk-item {\n",
              "  /* draw centered vertical line to link estimators */\n",
              "  background-image: linear-gradient(var(--sklearn-color-text-on-default-background), var(--sklearn-color-text-on-default-background));\n",
              "  background-size: 2px 100%;\n",
              "  background-repeat: no-repeat;\n",
              "  background-position: center center;\n",
              "}\n",
              "\n",
              "/* Parallel-specific style estimator block */\n",
              "\n",
              "#sk-container-id-2 div.sk-parallel-item::after {\n",
              "  content: \"\";\n",
              "  width: 100%;\n",
              "  border-bottom: 2px solid var(--sklearn-color-text-on-default-background);\n",
              "  flex-grow: 1;\n",
              "}\n",
              "\n",
              "#sk-container-id-2 div.sk-parallel {\n",
              "  display: flex;\n",
              "  align-items: stretch;\n",
              "  justify-content: center;\n",
              "  background-color: var(--sklearn-color-background);\n",
              "  position: relative;\n",
              "}\n",
              "\n",
              "#sk-container-id-2 div.sk-parallel-item {\n",
              "  display: flex;\n",
              "  flex-direction: column;\n",
              "}\n",
              "\n",
              "#sk-container-id-2 div.sk-parallel-item:first-child::after {\n",
              "  align-self: flex-end;\n",
              "  width: 50%;\n",
              "}\n",
              "\n",
              "#sk-container-id-2 div.sk-parallel-item:last-child::after {\n",
              "  align-self: flex-start;\n",
              "  width: 50%;\n",
              "}\n",
              "\n",
              "#sk-container-id-2 div.sk-parallel-item:only-child::after {\n",
              "  width: 0;\n",
              "}\n",
              "\n",
              "/* Serial-specific style estimator block */\n",
              "\n",
              "#sk-container-id-2 div.sk-serial {\n",
              "  display: flex;\n",
              "  flex-direction: column;\n",
              "  align-items: center;\n",
              "  background-color: var(--sklearn-color-background);\n",
              "  padding-right: 1em;\n",
              "  padding-left: 1em;\n",
              "}\n",
              "\n",
              "\n",
              "/* Toggleable style: style used for estimator/Pipeline/ColumnTransformer box that is\n",
              "clickable and can be expanded/collapsed.\n",
              "- Pipeline and ColumnTransformer use this feature and define the default style\n",
              "- Estimators will overwrite some part of the style using the `sk-estimator` class\n",
              "*/\n",
              "\n",
              "/* Pipeline and ColumnTransformer style (default) */\n",
              "\n",
              "#sk-container-id-2 div.sk-toggleable {\n",
              "  /* Default theme specific background. It is overwritten whether we have a\n",
              "  specific estimator or a Pipeline/ColumnTransformer */\n",
              "  background-color: var(--sklearn-color-background);\n",
              "}\n",
              "\n",
              "/* Toggleable label */\n",
              "#sk-container-id-2 label.sk-toggleable__label {\n",
              "  cursor: pointer;\n",
              "  display: flex;\n",
              "  width: 100%;\n",
              "  margin-bottom: 0;\n",
              "  padding: 0.5em;\n",
              "  box-sizing: border-box;\n",
              "  text-align: center;\n",
              "  align-items: start;\n",
              "  justify-content: space-between;\n",
              "  gap: 0.5em;\n",
              "}\n",
              "\n",
              "#sk-container-id-2 label.sk-toggleable__label .caption {\n",
              "  font-size: 0.6rem;\n",
              "  font-weight: lighter;\n",
              "  color: var(--sklearn-color-text-muted);\n",
              "}\n",
              "\n",
              "#sk-container-id-2 label.sk-toggleable__label-arrow:before {\n",
              "  /* Arrow on the left of the label */\n",
              "  content: \"▸\";\n",
              "  float: left;\n",
              "  margin-right: 0.25em;\n",
              "  color: var(--sklearn-color-icon);\n",
              "}\n",
              "\n",
              "#sk-container-id-2 label.sk-toggleable__label-arrow:hover:before {\n",
              "  color: var(--sklearn-color-text);\n",
              "}\n",
              "\n",
              "/* Toggleable content - dropdown */\n",
              "\n",
              "#sk-container-id-2 div.sk-toggleable__content {\n",
              "  max-height: 0;\n",
              "  max-width: 0;\n",
              "  overflow: hidden;\n",
              "  text-align: left;\n",
              "  /* unfitted */\n",
              "  background-color: var(--sklearn-color-unfitted-level-0);\n",
              "}\n",
              "\n",
              "#sk-container-id-2 div.sk-toggleable__content.fitted {\n",
              "  /* fitted */\n",
              "  background-color: var(--sklearn-color-fitted-level-0);\n",
              "}\n",
              "\n",
              "#sk-container-id-2 div.sk-toggleable__content pre {\n",
              "  margin: 0.2em;\n",
              "  border-radius: 0.25em;\n",
              "  color: var(--sklearn-color-text);\n",
              "  /* unfitted */\n",
              "  background-color: var(--sklearn-color-unfitted-level-0);\n",
              "}\n",
              "\n",
              "#sk-container-id-2 div.sk-toggleable__content.fitted pre {\n",
              "  /* unfitted */\n",
              "  background-color: var(--sklearn-color-fitted-level-0);\n",
              "}\n",
              "\n",
              "#sk-container-id-2 input.sk-toggleable__control:checked~div.sk-toggleable__content {\n",
              "  /* Expand drop-down */\n",
              "  max-height: 200px;\n",
              "  max-width: 100%;\n",
              "  overflow: auto;\n",
              "}\n",
              "\n",
              "#sk-container-id-2 input.sk-toggleable__control:checked~label.sk-toggleable__label-arrow:before {\n",
              "  content: \"▾\";\n",
              "}\n",
              "\n",
              "/* Pipeline/ColumnTransformer-specific style */\n",
              "\n",
              "#sk-container-id-2 div.sk-label input.sk-toggleable__control:checked~label.sk-toggleable__label {\n",
              "  color: var(--sklearn-color-text);\n",
              "  background-color: var(--sklearn-color-unfitted-level-2);\n",
              "}\n",
              "\n",
              "#sk-container-id-2 div.sk-label.fitted input.sk-toggleable__control:checked~label.sk-toggleable__label {\n",
              "  background-color: var(--sklearn-color-fitted-level-2);\n",
              "}\n",
              "\n",
              "/* Estimator-specific style */\n",
              "\n",
              "/* Colorize estimator box */\n",
              "#sk-container-id-2 div.sk-estimator input.sk-toggleable__control:checked~label.sk-toggleable__label {\n",
              "  /* unfitted */\n",
              "  background-color: var(--sklearn-color-unfitted-level-2);\n",
              "}\n",
              "\n",
              "#sk-container-id-2 div.sk-estimator.fitted input.sk-toggleable__control:checked~label.sk-toggleable__label {\n",
              "  /* fitted */\n",
              "  background-color: var(--sklearn-color-fitted-level-2);\n",
              "}\n",
              "\n",
              "#sk-container-id-2 div.sk-label label.sk-toggleable__label,\n",
              "#sk-container-id-2 div.sk-label label {\n",
              "  /* The background is the default theme color */\n",
              "  color: var(--sklearn-color-text-on-default-background);\n",
              "}\n",
              "\n",
              "/* On hover, darken the color of the background */\n",
              "#sk-container-id-2 div.sk-label:hover label.sk-toggleable__label {\n",
              "  color: var(--sklearn-color-text);\n",
              "  background-color: var(--sklearn-color-unfitted-level-2);\n",
              "}\n",
              "\n",
              "/* Label box, darken color on hover, fitted */\n",
              "#sk-container-id-2 div.sk-label.fitted:hover label.sk-toggleable__label.fitted {\n",
              "  color: var(--sklearn-color-text);\n",
              "  background-color: var(--sklearn-color-fitted-level-2);\n",
              "}\n",
              "\n",
              "/* Estimator label */\n",
              "\n",
              "#sk-container-id-2 div.sk-label label {\n",
              "  font-family: monospace;\n",
              "  font-weight: bold;\n",
              "  display: inline-block;\n",
              "  line-height: 1.2em;\n",
              "}\n",
              "\n",
              "#sk-container-id-2 div.sk-label-container {\n",
              "  text-align: center;\n",
              "}\n",
              "\n",
              "/* Estimator-specific */\n",
              "#sk-container-id-2 div.sk-estimator {\n",
              "  font-family: monospace;\n",
              "  border: 1px dotted var(--sklearn-color-border-box);\n",
              "  border-radius: 0.25em;\n",
              "  box-sizing: border-box;\n",
              "  margin-bottom: 0.5em;\n",
              "  /* unfitted */\n",
              "  background-color: var(--sklearn-color-unfitted-level-0);\n",
              "}\n",
              "\n",
              "#sk-container-id-2 div.sk-estimator.fitted {\n",
              "  /* fitted */\n",
              "  background-color: var(--sklearn-color-fitted-level-0);\n",
              "}\n",
              "\n",
              "/* on hover */\n",
              "#sk-container-id-2 div.sk-estimator:hover {\n",
              "  /* unfitted */\n",
              "  background-color: var(--sklearn-color-unfitted-level-2);\n",
              "}\n",
              "\n",
              "#sk-container-id-2 div.sk-estimator.fitted:hover {\n",
              "  /* fitted */\n",
              "  background-color: var(--sklearn-color-fitted-level-2);\n",
              "}\n",
              "\n",
              "/* Specification for estimator info (e.g. \"i\" and \"?\") */\n",
              "\n",
              "/* Common style for \"i\" and \"?\" */\n",
              "\n",
              ".sk-estimator-doc-link,\n",
              "a:link.sk-estimator-doc-link,\n",
              "a:visited.sk-estimator-doc-link {\n",
              "  float: right;\n",
              "  font-size: smaller;\n",
              "  line-height: 1em;\n",
              "  font-family: monospace;\n",
              "  background-color: var(--sklearn-color-background);\n",
              "  border-radius: 1em;\n",
              "  height: 1em;\n",
              "  width: 1em;\n",
              "  text-decoration: none !important;\n",
              "  margin-left: 0.5em;\n",
              "  text-align: center;\n",
              "  /* unfitted */\n",
              "  border: var(--sklearn-color-unfitted-level-1) 1pt solid;\n",
              "  color: var(--sklearn-color-unfitted-level-1);\n",
              "}\n",
              "\n",
              ".sk-estimator-doc-link.fitted,\n",
              "a:link.sk-estimator-doc-link.fitted,\n",
              "a:visited.sk-estimator-doc-link.fitted {\n",
              "  /* fitted */\n",
              "  border: var(--sklearn-color-fitted-level-1) 1pt solid;\n",
              "  color: var(--sklearn-color-fitted-level-1);\n",
              "}\n",
              "\n",
              "/* On hover */\n",
              "div.sk-estimator:hover .sk-estimator-doc-link:hover,\n",
              ".sk-estimator-doc-link:hover,\n",
              "div.sk-label-container:hover .sk-estimator-doc-link:hover,\n",
              ".sk-estimator-doc-link:hover {\n",
              "  /* unfitted */\n",
              "  background-color: var(--sklearn-color-unfitted-level-3);\n",
              "  color: var(--sklearn-color-background);\n",
              "  text-decoration: none;\n",
              "}\n",
              "\n",
              "div.sk-estimator.fitted:hover .sk-estimator-doc-link.fitted:hover,\n",
              ".sk-estimator-doc-link.fitted:hover,\n",
              "div.sk-label-container:hover .sk-estimator-doc-link.fitted:hover,\n",
              ".sk-estimator-doc-link.fitted:hover {\n",
              "  /* fitted */\n",
              "  background-color: var(--sklearn-color-fitted-level-3);\n",
              "  color: var(--sklearn-color-background);\n",
              "  text-decoration: none;\n",
              "}\n",
              "\n",
              "/* Span, style for the box shown on hovering the info icon */\n",
              ".sk-estimator-doc-link span {\n",
              "  display: none;\n",
              "  z-index: 9999;\n",
              "  position: relative;\n",
              "  font-weight: normal;\n",
              "  right: .2ex;\n",
              "  padding: .5ex;\n",
              "  margin: .5ex;\n",
              "  width: min-content;\n",
              "  min-width: 20ex;\n",
              "  max-width: 50ex;\n",
              "  color: var(--sklearn-color-text);\n",
              "  box-shadow: 2pt 2pt 4pt #999;\n",
              "  /* unfitted */\n",
              "  background: var(--sklearn-color-unfitted-level-0);\n",
              "  border: .5pt solid var(--sklearn-color-unfitted-level-3);\n",
              "}\n",
              "\n",
              ".sk-estimator-doc-link.fitted span {\n",
              "  /* fitted */\n",
              "  background: var(--sklearn-color-fitted-level-0);\n",
              "  border: var(--sklearn-color-fitted-level-3);\n",
              "}\n",
              "\n",
              ".sk-estimator-doc-link:hover span {\n",
              "  display: block;\n",
              "}\n",
              "\n",
              "/* \"?\"-specific style due to the `<a>` HTML tag */\n",
              "\n",
              "#sk-container-id-2 a.estimator_doc_link {\n",
              "  float: right;\n",
              "  font-size: 1rem;\n",
              "  line-height: 1em;\n",
              "  font-family: monospace;\n",
              "  background-color: var(--sklearn-color-background);\n",
              "  border-radius: 1rem;\n",
              "  height: 1rem;\n",
              "  width: 1rem;\n",
              "  text-decoration: none;\n",
              "  /* unfitted */\n",
              "  color: var(--sklearn-color-unfitted-level-1);\n",
              "  border: var(--sklearn-color-unfitted-level-1) 1pt solid;\n",
              "}\n",
              "\n",
              "#sk-container-id-2 a.estimator_doc_link.fitted {\n",
              "  /* fitted */\n",
              "  border: var(--sklearn-color-fitted-level-1) 1pt solid;\n",
              "  color: var(--sklearn-color-fitted-level-1);\n",
              "}\n",
              "\n",
              "/* On hover */\n",
              "#sk-container-id-2 a.estimator_doc_link:hover {\n",
              "  /* unfitted */\n",
              "  background-color: var(--sklearn-color-unfitted-level-3);\n",
              "  color: var(--sklearn-color-background);\n",
              "  text-decoration: none;\n",
              "}\n",
              "\n",
              "#sk-container-id-2 a.estimator_doc_link.fitted:hover {\n",
              "  /* fitted */\n",
              "  background-color: var(--sklearn-color-fitted-level-3);\n",
              "}\n",
              "</style><div id=\"sk-container-id-2\" class=\"sk-top-container\"><div class=\"sk-text-repr-fallback\"><pre>LinearRegression()</pre><b>In a Jupyter environment, please rerun this cell to show the HTML representation or trust the notebook. <br />On GitHub, the HTML representation is unable to render, please try loading this page with nbviewer.org.</b></div><div class=\"sk-container\" hidden><div class=\"sk-item\"><div class=\"sk-estimator fitted sk-toggleable\"><input class=\"sk-toggleable__control sk-hidden--visually\" id=\"sk-estimator-id-2\" type=\"checkbox\" checked><label for=\"sk-estimator-id-2\" class=\"sk-toggleable__label fitted sk-toggleable__label-arrow\"><div><div>LinearRegression</div></div><div><a class=\"sk-estimator-doc-link fitted\" rel=\"noreferrer\" target=\"_blank\" href=\"https://scikit-learn.org/1.6/modules/generated/sklearn.linear_model.LinearRegression.html\">?<span>Documentation for LinearRegression</span></a><span class=\"sk-estimator-doc-link fitted\">i<span>Fitted</span></span></div></label><div class=\"sk-toggleable__content fitted\"><pre>LinearRegression()</pre></div> </div></div></div></div>"
            ]
          },
          "metadata": {},
          "execution_count": 37
        }
      ]
    },
    {
      "cell_type": "code",
      "metadata": {
        "colab": {
          "base_uri": "https://localhost:8080/"
        },
        "id": "AFimPrfNeYUc",
        "outputId": "d483ebac-4c4e-4610-8178-e2d205c99a93"
      },
      "source": [
        "### Prediction\n",
        "ypred = model.predict(xtest)\n",
        "ypred\n"
      ],
      "execution_count": null,
      "outputs": [
        {
          "output_type": "execute_result",
          "data": {
            "text/plain": [
              "array([108335.56338618, 125509.79795421,  39638.62511404, 100702.57024483,\n",
              "        35822.12854337,  81620.08739146])"
            ]
          },
          "metadata": {},
          "execution_count": 38
        }
      ]
    },
    {
      "cell_type": "code",
      "metadata": {
        "colab": {
          "base_uri": "https://localhost:8080/"
        },
        "id": "vHAOuAmdegVX",
        "outputId": "819943c4-7bc1-430a-dc65-dcc6ad651a4d"
      },
      "source": [
        "ytest"
      ],
      "execution_count": null,
      "outputs": [
        {
          "output_type": "execute_result",
          "data": {
            "text/plain": [
              "array([109431., 121872.,  37731., 101302.,  39343.,  81363.])"
            ]
          },
          "metadata": {},
          "execution_count": 39
        }
      ]
    },
    {
      "cell_type": "code",
      "metadata": {
        "colab": {
          "base_uri": "https://localhost:8080/"
        },
        "id": "7md7HcuSejg6",
        "outputId": "86b3503b-7387-4e81-f475-34820bcccb34"
      },
      "source": [
        "###Accuracy\n",
        "from sklearn.metrics import r2_score\n",
        "r2 = r2_score(ytest,ypred)\n",
        "r2"
      ],
      "execution_count": null,
      "outputs": [
        {
          "output_type": "execute_result",
          "data": {
            "text/plain": [
              "0.9952429110093546"
            ]
          },
          "metadata": {},
          "execution_count": 40
        }
      ]
    },
    {
      "cell_type": "code",
      "metadata": {
        "colab": {
          "base_uri": "https://localhost:8080/",
          "height": 430
        },
        "id": "OO8oy72MjE2v",
        "outputId": "b259e18f-edc3-4ebb-f30c-1133282dc407"
      },
      "source": [
        "##Visualization\n",
        "plt.scatter(xtest,ytest,color=\"blue\")\n",
        "plt.scatter(xtest,ypred,color=\"red\")\n",
        "plt.plot(xtest,ypred,color=\"green\")\n",
        "plt.show()"
      ],
      "execution_count": null,
      "outputs": [
        {
          "output_type": "display_data",
          "data": {
            "text/plain": [
              "<Figure size 640x480 with 1 Axes>"
            ],
            "image/png": "[encoded data removed]"
          },
          "metadata": {}
        }
      ]
    },
    {
      "cell_type": "code",
      "metadata": {
        "colab": {
          "base_uri": "https://localhost:8080/"
        },
        "id": "DeaWJJw-rHFi",
        "outputId": "aa1e1a7c-abca-4dbe-faaa-74784c0a2596"
      },
      "source": [
        "###Accuracy\n",
        "from sklearn.metrics import r2_score\n",
        "r2 = r2_score(ytest,ypred)\n",
        "r2"
      ],
      "execution_count": null,
      "outputs": [
        {
          "output_type": "execute_result",
          "data": {
            "text/plain": [
              "0.9952429110093546"
            ]
          },
          "metadata": {},
          "execution_count": 42
        }
      ]
    },
    {
      "cell_type": "code",
      "metadata": {
        "id": "aeJNebAWjtCs"
      },
      "source": [
        "r2_scores = []\n",
        "for i in range(1,500):\n",
        "    xtrain,xtest,ytrain,ytest = train_test_split(x,y,train_size=0.80,random_state=i)\n",
        "    model = LinearRegression()\n",
        "    model.fit(xtrain,ytrain)\n",
        "    ypred = model.predict(xtest)\n",
        "    r2 = r2_score(ytest,ypred)\n",
        "    r2_scores.append(r2)\n"
      ],
      "execution_count": null,
      "outputs": []
    },
    {
      "cell_type": "code",
      "metadata": {
        "colab": {
          "base_uri": "https://localhost:8080/"
        },
        "id": "kqakkTwFrK9I",
        "outputId": "52fa9df2-1010-4b47-e360-0f98e0cc1faa"
      },
      "source": [
        "\n",
        "r2_scores"
      ],
      "execution_count": null,
      "outputs": [
        {
          "output_type": "execute_result",
          "data": {
            "text/plain": [
              "[0.7616681465472094,\n",
              " 0.8886956733784563,\n",
              " 0.9695039421049821,\n",
              " 0.9504404484884267,\n",
              " 0.9439628569611376,\n",
              " 0.9368146227107087,\n",
              " 0.8143022783109006,\n",
              " 0.9631182154839476,\n",
              " 0.9388416537799072,\n",
              " 0.9816423482070253,\n",
              " 0.940882728477622,\n",
              " 0.9429269163491423,\n",
              " 0.9394460269118793,\n",
              " 0.9606215790278543,\n",
              " 0.8697012433817218,\n",
              " 0.7949890249259297,\n",
              " 0.9384744808306155,\n",
              " 0.8864330645841889,\n",
              " 0.9415531751862448,\n",
              " 0.9441299149555877,\n",
              " 0.9398582853702572,\n",
              " 0.8870702615446784,\n",
              " 0.9184170849214232,\n",
              " 0.9520702017424296,\n",
              " 0.9531732818427658,\n",
              " 0.9835849730044816,\n",
              " 0.9636425773684423,\n",
              " 0.9217841352107623,\n",
              " 0.9467172742609803,\n",
              " 0.9944092048209745,\n",
              " 0.8967649524853983,\n",
              " 0.8985995727228404,\n",
              " 0.9350785573211586,\n",
              " 0.9244141448042442,\n",
              " 0.8839476512584652,\n",
              " 0.955021106900739,\n",
              " 0.9778242092591888,\n",
              " 0.972479448737762,\n",
              " 0.9928344802911048,\n",
              " 0.7775083459037234,\n",
              " 0.9802519469633169,\n",
              " 0.9024461774180497,\n",
              " 0.8688045158887867,\n",
              " 0.934951117043928,\n",
              " 0.9250487875802145,\n",
              " 0.9789129767378081,\n",
              " 0.98399193890564,\n",
              " 0.980277279178695,\n",
              " 0.9497670285223544,\n",
              " 0.8824679635169839,\n",
              " 0.9608624689052039,\n",
              " 0.9743646706957548,\n",
              " 0.9501154883629506,\n",
              " 0.9492729968840661,\n",
              " 0.8924137091604106,\n",
              " 0.9804067424885895,\n",
              " 0.809635146935763,\n",
              " 0.4815220524569873,\n",
              " 0.9547990109846669,\n",
              " 0.9139925364405546,\n",
              " 0.9505222881477348,\n",
              " 0.9719509793938971,\n",
              " 0.9582008985104701,\n",
              " 0.9140067830429534,\n",
              " 0.811270086006565,\n",
              " 0.7782285644532063,\n",
              " 0.9588832495320916,\n",
              " 0.9791787060652751,\n",
              " 0.8711824073761935,\n",
              " 0.9429397733426299,\n",
              " 0.9694792167947474,\n",
              " 0.9562771755752736,\n",
              " 0.981214310330871,\n",
              " 0.9618591691900452,\n",
              " 0.9652242905568412,\n",
              " 0.8468270318540349,\n",
              " 0.9782012346646264,\n",
              " 0.9861836585536035,\n",
              " 0.9806625667591384,\n",
              " 0.9356346952232668,\n",
              " 0.9760426364249574,\n",
              " 0.9561094647440507,\n",
              " 0.953240654259053,\n",
              " 0.9535679874886691,\n",
              " 0.977173992682254,\n",
              " 0.9743110017459554,\n",
              " 0.9534669191518677,\n",
              " 0.9770761663991681,\n",
              " 0.9744265816506664,\n",
              " 0.9676701872390631,\n",
              " 0.5524142829082107,\n",
              " 0.9793995823406392,\n",
              " 0.9682219576297961,\n",
              " 0.9676991009836634,\n",
              " 0.9059754831220264,\n",
              " 0.9359396033635742,\n",
              " 0.9537039102493191,\n",
              " 0.33975138540227356,\n",
              " 0.9102354571044845,\n",
              " 0.9720725422361338,\n",
              " 0.993422386435995,\n",
              " 0.9514303308376894,\n",
              " 0.993951370348244,\n",
              " 0.923551573304823,\n",
              " 0.942305013171397,\n",
              " 0.948036562674564,\n",
              " 0.9167407278644975,\n",
              " 0.9581214060756787,\n",
              " 0.974143810559606,\n",
              " 0.9458719613187272,\n",
              " 0.9140896140716743,\n",
              " 0.9744533591342565,\n",
              " 0.7067080298759723,\n",
              " 0.8969184343196762,\n",
              " 0.9643784690800865,\n",
              " 0.9809041874061502,\n",
              " 0.9624544504513641,\n",
              " 0.9403605009491255,\n",
              " 0.9569237636359416,\n",
              " 0.969201601811706,\n",
              " 0.9426102773227347,\n",
              " 0.8314282027856672,\n",
              " 0.9711590965698116,\n",
              " 0.959425996638188,\n",
              " 0.8853691773789206,\n",
              " 0.9351781113190845,\n",
              " 0.88713702109919,\n",
              " 0.8816634513963472,\n",
              " 0.9766134443801546,\n",
              " 0.9693237228921454,\n",
              " 0.9628150835061432,\n",
              " 0.9353949018583007,\n",
              " 0.9709691542389867,\n",
              " 0.9035398966004998,\n",
              " 0.9741726420842486,\n",
              " 0.957842520171026,\n",
              " 0.9711354452524612,\n",
              " 0.8694650910857331,\n",
              " 0.9546561177635546,\n",
              " 0.9758329776898194,\n",
              " 0.9450380685152899,\n",
              " 0.9559923177407321,\n",
              " 0.964933658486602,\n",
              " 0.9448507972795978,\n",
              " 0.844965000029796,\n",
              " 0.5822280600077009,\n",
              " 0.9478316304839808,\n",
              " 0.9075029901638413,\n",
              " 0.9516106361115769,\n",
              " 0.9596167623070662,\n",
              " 0.9402503517787065,\n",
              " 0.8957631087832572,\n",
              " 0.9145394103280926,\n",
              " 0.9426402309990841,\n",
              " 0.9518369325259827,\n",
              " 0.933793219956961,\n",
              " 0.9843512789791997,\n",
              " 0.9585524727702663,\n",
              " 0.9780987254510393,\n",
              " 0.9621705643828616,\n",
              " 0.949444823144052,\n",
              " 0.9200482925733225,\n",
              " 0.9499456323207299,\n",
              " 0.9555715853779447,\n",
              " 0.8839908155845717,\n",
              " 0.9305836440315953,\n",
              " 0.9932156213730909,\n",
              " 0.9864154376087744,\n",
              " 0.9513552895244857,\n",
              " 0.8773894469882996,\n",
              " 0.9609299792956711,\n",
              " 0.9201348920476703,\n",
              " 0.9044203412945562,\n",
              " 0.9614687354107081,\n",
              " 0.9669073401764426,\n",
              " 0.8843691365028532,\n",
              " 0.8976424872331359,\n",
              " 0.9502545043219972,\n",
              " 0.8927546777449028,\n",
              " 0.9629485298775463,\n",
              " 0.7440224096019279,\n",
              " 0.9172878674673552,\n",
              " 0.9761560081553321,\n",
              " 0.9685177747353091,\n",
              " 0.8823148255766505,\n",
              " 0.9634854326525794,\n",
              " 0.7788592737857019,\n",
              " 0.9254482470869073,\n",
              " 0.8872094764399351,\n",
              " 0.9478290543549621,\n",
              " 0.9376525545746504,\n",
              " 0.6075719619008022,\n",
              " 0.9407957279953787,\n",
              " 0.9505478201330253,\n",
              " 0.9514192201957139,\n",
              " 0.9623404402868286,\n",
              " 0.9680210264507271,\n",
              " 0.98212789445011,\n",
              " 0.9043638161837544,\n",
              " 0.9952429110093546,\n",
              " 0.9574899187661282,\n",
              " 0.9906524413209953,\n",
              " 0.9482503595698928,\n",
              " 0.9647766965261255,\n",
              " 0.9494339723924751,\n",
              " 0.9157179140109509,\n",
              " 0.9663509078659444,\n",
              " 0.9805909492370417,\n",
              " 0.8767618756965904,\n",
              " 0.9062046482988906,\n",
              " 0.9501209102439497,\n",
              " 0.9515727163406867,\n",
              " 0.9349561564235962,\n",
              " 0.42322027491470726,\n",
              " 0.9628724892712616,\n",
              " 0.8977817993201394,\n",
              " 0.9618961564380784,\n",
              " 0.9653156219786904,\n",
              " 0.9528659580761882,\n",
              " 0.9612823827734808,\n",
              " 0.9329164770976629,\n",
              " 0.976523249176461,\n",
              " 0.9574763758899383,\n",
              " 0.9626667015805849,\n",
              " 0.9387654047932767,\n",
              " 0.9748393431398527,\n",
              " 0.93832129615285,\n",
              " 0.9249320758180195,\n",
              " 0.9390586506255431,\n",
              " 0.9537671927002505,\n",
              " 0.9578955059593178,\n",
              " 0.9821531726157032,\n",
              " 0.8802490427653341,\n",
              " 0.9400380805593752,\n",
              " 0.9506840140225761,\n",
              " 0.9240203987172712,\n",
              " 0.96069794282716,\n",
              " 0.9557364730110924,\n",
              " 0.9315439245320289,\n",
              " 0.9545758377518041,\n",
              " 0.9508540777006826,\n",
              " 0.9752893678304031,\n",
              " 0.9694451439354064,\n",
              " 0.9063631622439331,\n",
              " 0.9445465850668773,\n",
              " 0.9422466156971665,\n",
              " 0.9689097172430862,\n",
              " 0.9483473444970703,\n",
              " 0.9677654478381044,\n",
              " 0.8888932290918311,\n",
              " 0.9397924907779216,\n",
              " 0.9702346045953483,\n",
              " 0.9842569785332597,\n",
              " 0.9474569382824549,\n",
              " 0.9401026714509406,\n",
              " 0.9553041067326024,\n",
              " 0.9887014555518095,\n",
              " 0.9249483001266275,\n",
              " 0.9801241683705093,\n",
              " 0.8827913206666979,\n",
              " 0.936790827910295,\n",
              " 0.9437159112219031,\n",
              " 0.9575703835213644,\n",
              " 0.9276186014844053,\n",
              " 0.9094343639020072,\n",
              " 0.8180546128860342,\n",
              " 0.9580711077077905,\n",
              " 0.8629195023134445,\n",
              " 0.8939000539996174,\n",
              " 0.9258011670995567,\n",
              " 0.9723662701717581,\n",
              " 0.9240388343632948,\n",
              " 0.9514218884351788,\n",
              " 0.9286663865985184,\n",
              " 0.915977653412763,\n",
              " 0.934294156342874,\n",
              " 0.8510306040950117,\n",
              " 0.9313387951265095,\n",
              " 0.8962467925227375,\n",
              " 0.8582528171086797,\n",
              " 0.9386936970053863,\n",
              " 0.9644682536114649,\n",
              " 0.9671688815456763,\n",
              " 0.9569677288711765,\n",
              " 0.9686286434665914,\n",
              " 0.968130737754169,\n",
              " 0.9584963768110077,\n",
              " 0.9284391238003984,\n",
              " 0.8709522316877528,\n",
              " 0.8998260743075644,\n",
              " 0.9828929197755568,\n",
              " 0.913177990512414,\n",
              " 0.9103842809431602,\n",
              " 0.9620915954900193,\n",
              " 0.8224364077189524,\n",
              " 0.9747424830242787,\n",
              " 0.9678780881362677,\n",
              " 0.9771569669145379,\n",
              " 0.9237622740490861,\n",
              " -2.175274357832557,\n",
              " 0.9782741040339776,\n",
              " 0.9827282185048205,\n",
              " 0.9832970238943499,\n",
              " 0.9868137587268364,\n",
              " 0.9228797371934636,\n",
              " 0.9241953831328015,\n",
              " 0.9706829077505805,\n",
              " 0.9734828712263711,\n",
              " 0.9668318629149866,\n",
              " 0.9755453723566424,\n",
              " 0.9717199946773938,\n",
              " 0.8952012705427326,\n",
              " 0.9345232296884088,\n",
              " 0.9018764358154756,\n",
              " 0.9553217976056723,\n",
              " 0.961770642601842,\n",
              " 0.9420311956797234,\n",
              " 0.9289407262064421,\n",
              " 0.9655705070629778,\n",
              " 0.9604782062347975,\n",
              " 0.9290148357619183,\n",
              " 0.988024925310538,\n",
              " 0.9421321136934614,\n",
              " 0.9848192060235849,\n",
              " 0.9582033915914415,\n",
              " 0.9765888431364823,\n",
              " 0.8523219589927007,\n",
              " 0.9527535376592942,\n",
              " 0.9364773378148156,\n",
              " 0.9750335178364884,\n",
              " 0.9197261800045895,\n",
              " 0.9611092645555072,\n",
              " 0.9421901163257497,\n",
              " 0.9568229413474396,\n",
              " 0.9624934239394792,\n",
              " 0.9442032416197734,\n",
              " 0.9415967828419688,\n",
              " 0.8741621911554218,\n",
              " 0.9187927812701799,\n",
              " 0.8777336855392486,\n",
              " 0.77417380188522,\n",
              " 0.4927649907153494,\n",
              " 0.9174129229623054,\n",
              " 0.913632186052151,\n",
              " 0.9623661311342274,\n",
              " 0.9721335782446513,\n",
              " 0.9452693088190398,\n",
              " 0.94906599049595,\n",
              " 0.9800872513980994,\n",
              " 0.9536200175966912,\n",
              " 0.9839317794607522,\n",
              " 0.9702537977119801,\n",
              " 0.9317041744112311,\n",
              " 0.9711845434063585,\n",
              " 0.9232168583317828,\n",
              " 0.9677797267999915,\n",
              " 0.9364178127970496,\n",
              " 0.9586270780141151,\n",
              " 0.9117865447831565,\n",
              " 0.9072305797372391,\n",
              " 0.9288080716567694,\n",
              " 0.9395304557094496,\n",
              " 0.945592888250152,\n",
              " 0.8663479360216312,\n",
              " 0.90222423303666,\n",
              " 0.9384180729718122,\n",
              " 0.9153822642434364,\n",
              " 0.8640038996961943,\n",
              " 0.9731386892832472,\n",
              " 0.9675044986151414,\n",
              " 0.9763615359455476,\n",
              " 0.7754633680831431,\n",
              " 0.8579028661970863,\n",
              " 0.8178553082974258,\n",
              " 0.9451418283007481,\n",
              " 0.9755336334699207,\n",
              " 0.8927957253962784,\n",
              " -0.12038325518752369,\n",
              " 0.9478327463320066,\n",
              " 0.9149908029824452,\n",
              " 0.965846997843408,\n",
              " 0.9567435049194214,\n",
              " 0.9290982417876945,\n",
              " 0.9060402715057205,\n",
              " 0.9418842526313294,\n",
              " 0.9372279384965195,\n",
              " 0.9722819435903672,\n",
              " 0.9632625173645575,\n",
              " 0.9767388481902819,\n",
              " 0.932943446725044,\n",
              " 0.9679219660859564,\n",
              " 0.9452313733736595,\n",
              " 0.8492724942099856,\n",
              " 0.9521242959811101,\n",
              " 0.9610021436153754,\n",
              " 0.9201700537747247,\n",
              " 0.8316851791302221,\n",
              " 0.7418275789432853,\n",
              " 0.9417598439045696,\n",
              " 0.9898434390588872,\n",
              " 0.9767827249581711,\n",
              " 0.8885681046263565,\n",
              " 0.939027512368197,\n",
              " 0.9417898937084337,\n",
              " 0.9700666177666281,\n",
              " 0.914496375633173,\n",
              " 0.9569552519415891,\n",
              " 0.9506261936336418,\n",
              " 0.9738809199309473,\n",
              " 0.9562936554075491,\n",
              " 0.9521495213183243,\n",
              " 0.9233520431912321,\n",
              " 0.9762981408435532,\n",
              " 0.9362131576104327,\n",
              " 0.952607831348878,\n",
              " 0.9287582434289874,\n",
              " 0.9149879005916816,\n",
              " 0.9374701392819708,\n",
              " 0.9477399563525247,\n",
              " 0.9823751294462939,\n",
              " 0.9628174543536127,\n",
              " 0.9307783431484525,\n",
              " 0.8405934469306451,\n",
              " 0.9524927528629347,\n",
              " 0.9584993488485485,\n",
              " 0.9696458072304073,\n",
              " 0.9432752536744781,\n",
              " 0.6889784969517632,\n",
              " 0.8872254193412725,\n",
              " 0.975037829172383,\n",
              " -0.16474183748777382,\n",
              " 0.9433008990265421,\n",
              " 0.9775914736367702,\n",
              " 0.9451642883888033,\n",
              " 0.8459718769645332,\n",
              " 0.9758259120366866,\n",
              " 0.9640496752989668,\n",
              " 0.9632572060781348,\n",
              " 0.926340726855575,\n",
              " 0.8239534370082878,\n",
              " 0.8808927348644479,\n",
              " 0.9069078118126628,\n",
              " 0.870532477878796,\n",
              " 0.9203652315176376,\n",
              " 0.9497201211175037,\n",
              " 0.9449143349401226,\n",
              " 0.9694411777911821,\n",
              " 0.8664326770330526,\n",
              " 0.9827173515096721,\n",
              " 0.9584672351750041,\n",
              " 0.9376964418573707,\n",
              " 0.9721574945710459,\n",
              " 0.9305025488469474,\n",
              " 0.9325237351154199,\n",
              " 0.9198758699403128,\n",
              " 0.9379586850369461,\n",
              " 0.9627671465013857,\n",
              " 0.9746885156297657,\n",
              " 0.9388776097661393,\n",
              " 0.8022547284289652,\n",
              " 0.9846725654835888,\n",
              " 0.9572487893087314,\n",
              " 0.9774459918785455,\n",
              " 0.8957590637668914,\n",
              " 0.9371022180493387,\n",
              " 0.9628022627176109,\n",
              " 0.9901641327766026,\n",
              " 0.9227907294033851,\n",
              " 0.893435180051926,\n",
              " 0.961671748226427,\n",
              " 0.9626803243941433,\n",
              " 0.9422036608385017,\n",
              " 0.9496469403244372,\n",
              " 0.9280748703099433,\n",
              " 0.9686776645323301,\n",
              " 0.9089645972300915,\n",
              " 0.9200418295723104,\n",
              " 0.9466854541704197,\n",
              " 0.9396761172666035,\n",
              " 0.892815565409324,\n",
              " 0.9506312178510892,\n",
              " 0.9361846293702507,\n",
              " 0.9670461229645954,\n",
              " 0.9003236750410633,\n",
              " 0.9357786181886608,\n",
              " 0.9492298370776889,\n",
              " 0.9672211781816686,\n",
              " 0.47030041761941443,\n",
              " 0.8693981713910438,\n",
              " 0.8049523574997428,\n",
              " 0.9808152835202145,\n",
              " 0.9606849543645315,\n",
              " 0.8921759578899422,\n",
              " 0.9519106868096108,\n",
              " 0.8236978985135598,\n",
              " 0.9446111008218258,\n",
              " 0.9789836285697657,\n",
              " 0.9626062626007694,\n",
              " 0.8272933043147526]"
            ]
          },
          "metadata": {},
          "execution_count": 44
        }
      ]
    },
    {
      "cell_type": "code",
      "metadata": {
        "colab": {
          "base_uri": "https://localhost:8080/"
        },
        "id": "nC793a2hrQ5F",
        "outputId": "6c1ad26c-a39d-4e7f-95ca-00a86fe20982"
      },
      "source": [
        "\n",
        "max(r2_scores)"
      ],
      "execution_count": null,
      "outputs": [
        {
          "output_type": "execute_result",
          "data": {
            "text/plain": [
              "0.9952429110093546"
            ]
          },
          "metadata": {},
          "execution_count": 45
        }
      ]
    },
    {
      "cell_type": "code",
      "metadata": {
        "colab": {
          "base_uri": "https://localhost:8080/"
        },
        "id": "8Jl_f6BSrr_Z",
        "outputId": "292d2ba2-afd7-4b4a-bea3-61ddb2dff052"
      },
      "source": [
        "r2_scores.index(0.9944092048209745)"
      ],
      "execution_count": null,
      "outputs": [
        {
          "output_type": "execute_result",
          "data": {
            "text/plain": [
              "29"
            ]
          },
          "metadata": {},
          "execution_count": 46
        }
      ]
    },
    {
      "cell_type": "code",
      "metadata": {
        "colab": {
          "base_uri": "https://localhost:8080/"
        },
        "id": "OtQGw7E7rui9",
        "outputId": "ac72b290-a132-492b-f272-55ad34151351"
      },
      "source": [
        "\n",
        "import numpy as np\n",
        "arr = np.array(r2_scores)\n",
        "np.argmax(arr)"
      ],
      "execution_count": null,
      "outputs": [
        {
          "output_type": "execute_result",
          "data": {
            "text/plain": [
              "199"
            ]
          },
          "metadata": {},
          "execution_count": 47
        }
      ]
    },
    {
      "cell_type": "code",
      "metadata": {
        "colab": {
          "base_uri": "https://localhost:8080/"
        },
        "id": "GXcw4YU5rx74",
        "outputId": "84baca0f-5c4d-4b26-9dfb-28b5cedc3eec"
      },
      "source": [
        "### Make new prediction\n",
        "new_salary_pred = model.predict([[12]])\n",
        "print('The predicted salary of a person with 12 years experience is ',new_salary_pred)"
      ],
      "execution_count": null,
      "outputs": [
        {
          "output_type": "stream",
          "name": "stdout",
          "text": [
            "The predicted salary of a person with 12 years experience is  [139036.02968543]\n"
          ]
        }
      ]
    },
    {
      "cell_type": "code",
      "metadata": {
        "id": "hEmicvvIsjxH"
      },
      "source": [],
      "execution_count": null,
      "outputs": []
    }
  ]
}